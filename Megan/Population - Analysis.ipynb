{
 "cells": [
  {
   "cell_type": "code",
   "execution_count": 22,
   "id": "6ff05b1d",
   "metadata": {},
   "outputs": [],
   "source": [
    "# Import Dependencies\n",
    "import matplotlib.pyplot as plt\n",
    "import pandas as pd\n",
    "import numpy as np\n",
    "from config import gkey\n",
    "import gmaps\n",
    "import requests\n",
    "import time"
   ]
  },
  {
   "cell_type": "code",
   "execution_count": 4,
   "id": "4d58c2c8",
   "metadata": {},
   "outputs": [],
   "source": [
    "# Load the Size History by County csv to a DataFrame\n",
    "population_data_path = \"../cleaned_data/Electric_Vehicle_Population_Data_Cleaned.csv\"\n",
    "population_data = pd.read_csv(population_data_path)"
   ]
  },
  {
   "cell_type": "code",
   "execution_count": 4,
   "id": "14382ff8",
   "metadata": {},
   "outputs": [
    {
     "data": {
      "text/html": [
       "<div>\n",
       "<style scoped>\n",
       "    .dataframe tbody tr th:only-of-type {\n",
       "        vertical-align: middle;\n",
       "    }\n",
       "\n",
       "    .dataframe tbody tr th {\n",
       "        vertical-align: top;\n",
       "    }\n",
       "\n",
       "    .dataframe thead th {\n",
       "        text-align: right;\n",
       "    }\n",
       "</style>\n",
       "<table border=\"1\" class=\"dataframe\">\n",
       "  <thead>\n",
       "    <tr style=\"text-align: right;\">\n",
       "      <th></th>\n",
       "      <th>VIN (1-10)</th>\n",
       "      <th>County</th>\n",
       "      <th>City</th>\n",
       "      <th>State</th>\n",
       "      <th>ZIP Code</th>\n",
       "      <th>Model Year</th>\n",
       "      <th>Make</th>\n",
       "      <th>Model</th>\n",
       "      <th>Electric Vehicle Type</th>\n",
       "      <th>Clean Alternative Fuel Vehicle (CAFV) Eligibility</th>\n",
       "      <th>Electric Range</th>\n",
       "      <th>Base MSRP</th>\n",
       "      <th>Legislative District</th>\n",
       "      <th>DOL Vehicle ID</th>\n",
       "      <th>Vehicle Location</th>\n",
       "    </tr>\n",
       "  </thead>\n",
       "  <tbody>\n",
       "    <tr>\n",
       "      <th>0</th>\n",
       "      <td>WBY7Z2C52J</td>\n",
       "      <td>King</td>\n",
       "      <td>SEATTLE</td>\n",
       "      <td>WA</td>\n",
       "      <td>98144</td>\n",
       "      <td>2018</td>\n",
       "      <td>BMW</td>\n",
       "      <td>I3</td>\n",
       "      <td>Battery Electric Vehicle (BEV)</td>\n",
       "      <td>Clean Alternative Fuel Vehicle Eligible</td>\n",
       "      <td>114</td>\n",
       "      <td>0</td>\n",
       "      <td>37.0</td>\n",
       "      <td>148213054</td>\n",
       "      <td>POINT (-122.30033 47.585339)</td>\n",
       "    </tr>\n",
       "    <tr>\n",
       "      <th>1</th>\n",
       "      <td>KNDCC3LG2L</td>\n",
       "      <td>Jefferson</td>\n",
       "      <td>CHIMACUM</td>\n",
       "      <td>WA</td>\n",
       "      <td>98325</td>\n",
       "      <td>2020</td>\n",
       "      <td>KIA</td>\n",
       "      <td>NIRO</td>\n",
       "      <td>Battery Electric Vehicle (BEV)</td>\n",
       "      <td>Clean Alternative Fuel Vehicle Eligible</td>\n",
       "      <td>239</td>\n",
       "      <td>0</td>\n",
       "      <td>24.0</td>\n",
       "      <td>156702472</td>\n",
       "      <td>POINT (-122.785612 47.98059)</td>\n",
       "    </tr>\n",
       "    <tr>\n",
       "      <th>2</th>\n",
       "      <td>JN1AZ0CP4B</td>\n",
       "      <td>King</td>\n",
       "      <td>WOODINVILLE</td>\n",
       "      <td>WA</td>\n",
       "      <td>98072</td>\n",
       "      <td>2011</td>\n",
       "      <td>NISSAN</td>\n",
       "      <td>LEAF</td>\n",
       "      <td>Battery Electric Vehicle (BEV)</td>\n",
       "      <td>Clean Alternative Fuel Vehicle Eligible</td>\n",
       "      <td>73</td>\n",
       "      <td>0</td>\n",
       "      <td>45.0</td>\n",
       "      <td>161700199</td>\n",
       "      <td>POINT (-122.132064 47.759381000000005)</td>\n",
       "    </tr>\n",
       "    <tr>\n",
       "      <th>3</th>\n",
       "      <td>JTDKARFP6H</td>\n",
       "      <td>Clark</td>\n",
       "      <td>CAMAS</td>\n",
       "      <td>WA</td>\n",
       "      <td>98607</td>\n",
       "      <td>2017</td>\n",
       "      <td>TOYOTA</td>\n",
       "      <td>PRIUS PRIME</td>\n",
       "      <td>Plug-in Hybrid Electric Vehicle (PHEV)</td>\n",
       "      <td>Not eligible due to low battery range</td>\n",
       "      <td>25</td>\n",
       "      <td>0</td>\n",
       "      <td>18.0</td>\n",
       "      <td>161738552</td>\n",
       "      <td>POINT (-122.40849800000001 45.620943)</td>\n",
       "    </tr>\n",
       "    <tr>\n",
       "      <th>4</th>\n",
       "      <td>WBY1Z2C58F</td>\n",
       "      <td>King</td>\n",
       "      <td>SAMMAMISH</td>\n",
       "      <td>WA</td>\n",
       "      <td>98074</td>\n",
       "      <td>2015</td>\n",
       "      <td>BMW</td>\n",
       "      <td>I3</td>\n",
       "      <td>Battery Electric Vehicle (BEV)</td>\n",
       "      <td>Clean Alternative Fuel Vehicle Eligible</td>\n",
       "      <td>81</td>\n",
       "      <td>0</td>\n",
       "      <td>45.0</td>\n",
       "      <td>1697706</td>\n",
       "      <td>POINT (-122.04272399999999 47.623594)</td>\n",
       "    </tr>\n",
       "  </tbody>\n",
       "</table>\n",
       "</div>"
      ],
      "text/plain": [
       "   VIN (1-10)     County         City State  ZIP Code  Model Year    Make  \\\n",
       "0  WBY7Z2C52J       King      SEATTLE    WA     98144        2018     BMW   \n",
       "1  KNDCC3LG2L  Jefferson     CHIMACUM    WA     98325        2020     KIA   \n",
       "2  JN1AZ0CP4B       King  WOODINVILLE    WA     98072        2011  NISSAN   \n",
       "3  JTDKARFP6H      Clark        CAMAS    WA     98607        2017  TOYOTA   \n",
       "4  WBY1Z2C58F       King    SAMMAMISH    WA     98074        2015     BMW   \n",
       "\n",
       "         Model                   Electric Vehicle Type  \\\n",
       "0           I3          Battery Electric Vehicle (BEV)   \n",
       "1         NIRO          Battery Electric Vehicle (BEV)   \n",
       "2         LEAF          Battery Electric Vehicle (BEV)   \n",
       "3  PRIUS PRIME  Plug-in Hybrid Electric Vehicle (PHEV)   \n",
       "4           I3          Battery Electric Vehicle (BEV)   \n",
       "\n",
       "  Clean Alternative Fuel Vehicle (CAFV) Eligibility  Electric Range  \\\n",
       "0           Clean Alternative Fuel Vehicle Eligible             114   \n",
       "1           Clean Alternative Fuel Vehicle Eligible             239   \n",
       "2           Clean Alternative Fuel Vehicle Eligible              73   \n",
       "3             Not eligible due to low battery range              25   \n",
       "4           Clean Alternative Fuel Vehicle Eligible              81   \n",
       "\n",
       "   Base MSRP  Legislative District  DOL Vehicle ID  \\\n",
       "0          0                  37.0       148213054   \n",
       "1          0                  24.0       156702472   \n",
       "2          0                  45.0       161700199   \n",
       "3          0                  18.0       161738552   \n",
       "4          0                  45.0         1697706   \n",
       "\n",
       "                         Vehicle Location  \n",
       "0            POINT (-122.30033 47.585339)  \n",
       "1            POINT (-122.785612 47.98059)  \n",
       "2  POINT (-122.132064 47.759381000000005)  \n",
       "3   POINT (-122.40849800000001 45.620943)  \n",
       "4   POINT (-122.04272399999999 47.623594)  "
      ]
     },
     "execution_count": 4,
     "metadata": {},
     "output_type": "execute_result"
    }
   ],
   "source": [
    "population_data.head()"
   ]
  },
  {
   "cell_type": "markdown",
   "id": "27869421",
   "metadata": {},
   "source": [
    "# Most Popular EV Makes"
   ]
  },
  {
   "cell_type": "code",
   "execution_count": 12,
   "id": "350c0c33",
   "metadata": {},
   "outputs": [
    {
     "data": {
      "text/plain": [
       "TESLA         36443\n",
       "NISSAN        12150\n",
       "CHEVROLET      9586\n",
       "FORD           5075\n",
       "KIA            4034\n",
       "TOYOTA         3663\n",
       "BMW            3651\n",
       "AUDI           1736\n",
       "VOLKSWAGEN     1556\n",
       "CHRYSLER       1547\n",
       "Name: Make, dtype: int64"
      ]
     },
     "execution_count": 12,
     "metadata": {},
     "output_type": "execute_result"
    }
   ],
   "source": [
    "# Find the top 10 makes of EV in Washington \n",
    "make_count = population_data[\"Make\"].value_counts()\n",
    "make_count.head(10)"
   ]
  },
  {
   "cell_type": "code",
   "execution_count": 14,
   "id": "caee1f58",
   "metadata": {},
   "outputs": [
    {
     "data": {
      "image/png": "[encoded data removed]",
      "text/plain": [
       "<Figure size 432x288 with 1 Axes>"
      ]
     },
     "metadata": {},
     "output_type": "display_data"
    }
   ],
   "source": [
    "# Plot pie graph to show population of each make of EV in Washington\n",
    "tesla_count = len(population_data.loc[population_data[\"Make\"]==\"TESLA\",:])\n",
    "nissan_count = len(population_data.loc[population_data[\"Make\"]==\"NISSAN\",:])\n",
    "chevrolet_count = len(population_data.loc[population_data[\"Make\"]==\"CHEVROLET\",:])\n",
    "ford_count = len(population_data.loc[population_data[\"Make\"]==\"FORD\",:])\n",
    "kia_count = len(population_data.loc[population_data[\"Make\"]==\"KIA\",:])\n",
    "other_count = len(population_data[\"Make\"])-(tesla_count+nissan_count+chevrolet_count+ford_count+kia_count)\n",
    "\n",
    "# Generate a pie plot showing the distribution of female versus male mice using pyplot\n",
    "plt.pie([tesla_count,nissan_count,chevrolet_count,ford_count,kia_count,other_count], labels=[\"Tesla\", \"Nissan\", \"Chevrolet\", \"Ford\", \"Kia\", \"Other\"],\n",
    "        autopct=\"%1.1f%%\", startangle=140)\n",
    "plt.title(\"Population of EV Makes in Washington\")\n",
    "plt.savefig(\"../figures/PopularEVMakesWashington.png\")\n",
    "plt.show()"
   ]
  },
  {
   "cell_type": "markdown",
   "id": "c90f484e",
   "metadata": {},
   "source": [
    "### Findings"
   ]
  },
  {
   "cell_type": "markdown",
   "id": "023d813b",
   "metadata": {},
   "source": [
    "It was seen that Tesla is the most popular make of electric vehicles in Washington with 36443 vehicles (42.3% of population), followed by Nissan with 12150 (14.1%), and Chevrolet with 9586 (11.1%)."
   ]
  },
  {
   "cell_type": "code",
   "execution_count": 11,
   "id": "a4c727cf",
   "metadata": {},
   "outputs": [
    {
     "data": {
      "text/plain": [
       "King         45116\n",
       "Snohomish     9192\n",
       "Pierce        6530\n",
       "Clark         4986\n",
       "Thurston      3283\n",
       "Kitsap        3085\n",
       "Whatcom       2356\n",
       "Spokane       2095\n",
       "Benton        1088\n",
       "Island        1068\n",
       "Name: County, dtype: int64"
      ]
     },
     "execution_count": 11,
     "metadata": {},
     "output_type": "execute_result"
    }
   ],
   "source": [
    "# Find the number of EVs in each county\n",
    "EV_population_count = population_data[\"County\"].value_counts()\n",
    "EV_population_count.head(10)"
   ]
  },
  {
   "cell_type": "markdown",
   "id": "b730ca3c",
   "metadata": {},
   "source": [
    "# Counties with Most EVs"
   ]
  },
  {
   "cell_type": "code",
   "execution_count": 10,
   "id": "3db2d550",
   "metadata": {},
   "outputs": [
    {
     "data": {
      "image/png": "[encoded data removed]",
      "text/plain": [
       "<Figure size 720x360 with 1 Axes>"
      ]
     },
     "metadata": {
      "needs_background": "light"
     },
     "output_type": "display_data"
    }
   ],
   "source": [
    "# Plot bar graph to show the top 10 counties of Washington with the highest population of EVs\n",
    "plt.figure(figsize=(10,5))\n",
    "EV_population_count[\"County\"].value_counts().head(10).plot.bar(rot=0)\n",
    "#plt.xlim(-0.75, len(x_axis)-0.25)\n",
    "#plt.ylim(0, max(bars_in_cities)+0.4)\n",
    "plt.title(\"Population of EVs in Washington Counties\")\n",
    "plt.xlabel(\"Counties\")\n",
    "plt.ylabel(\"Number of EVs\")\n",
    "plt.savefig(\"../figures/EVPopulationWashingtonCounties.png\")\n",
    "plt.show()"
   ]
  },
  {
   "cell_type": "code",
   "execution_count": 1,
   "id": "0d9a51cf",
   "metadata": {},
   "outputs": [],
   "source": [
    "# UNABLE TO FIND COUNTY LATITUDE AND LONGITUDE VALUES TO MAKE A HEATMAP\n",
    "import seaborn as sns"
   ]
  },
  {
   "cell_type": "code",
   "execution_count": 2,
   "id": "b5eba183",
   "metadata": {},
   "outputs": [
    {
     "ename": "NameError",
     "evalue": "name 'population_data' is not defined",
     "output_type": "error",
     "traceback": [
      "\u001b[0;31m---------------------------------------------------------------------------\u001b[0m",
      "\u001b[0;31mNameError\u001b[0m                                 Traceback (most recent call last)",
      "\u001b[0;32m/var/folders/rg/dcgfvk5x0q91fd7t_vxt3sym0000gn/T/ipykernel_11579/1415076051.py\u001b[0m in \u001b[0;36m<module>\u001b[0;34m\u001b[0m\n\u001b[0;32m----> 1\u001b[0;31m \u001b[0msns\u001b[0m\u001b[0;34m.\u001b[0m\u001b[0mheatmap\u001b[0m\u001b[0;34m(\u001b[0m\u001b[0mpopulation_data\u001b[0m\u001b[0;34m)\u001b[0m\u001b[0;34m\u001b[0m\u001b[0;34m\u001b[0m\u001b[0m\n\u001b[0m",
      "\u001b[0;31mNameError\u001b[0m: name 'population_data' is not defined"
     ]
    }
   ],
   "source": [
    "sns.heatmap(population_data)"
   ]
  },
  {
   "cell_type": "markdown",
   "id": "65585217",
   "metadata": {},
   "source": [
    "### Findings"
   ]
  },
  {
   "cell_type": "code",
   "execution_count": null,
   "id": "2b0f5166",
   "metadata": {},
   "outputs": [],
   "source": []
  },
  {
   "cell_type": "code",
   "execution_count": null,
   "id": "f448e6de",
   "metadata": {},
   "outputs": [],
   "source": []
  },
  {
   "cell_type": "markdown",
   "id": "79cd91da",
   "metadata": {},
   "source": [
    "It was seen that King is the Washington county with the highest population of electric vehicles with 45116 vehicles."
   ]
  },
  {
   "cell_type": "code",
   "execution_count": null,
   "id": "7ab81ca4",
   "metadata": {},
   "outputs": [],
   "source": []
  }
 ],
 "metadata": {
  "kernelspec": {
   "display_name": "Python 3 (ipykernel)",
   "language": "python",
   "name": "python3"
  },
  "language_info": {
   "codemirror_mode": {
    "name": "ipython",
    "version": 3
   },
   "file_extension": ".py",
   "mimetype": "text/x-python",
   "name": "python",
   "nbconvert_exporter": "python",
   "pygments_lexer": "ipython3",
   "version": "3.9.7"
  }
 },
 "nbformat": 4,
 "nbformat_minor": 5
}
